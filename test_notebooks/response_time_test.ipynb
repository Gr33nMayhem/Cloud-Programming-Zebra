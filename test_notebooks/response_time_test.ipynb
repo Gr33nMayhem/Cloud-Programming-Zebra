{
 "cells": [
  {
   "cell_type": "code",
   "execution_count": 1,
   "outputs": [],
   "source": [
    "import os\n",
    "\n",
    "import dotenv\n"
   ],
   "metadata": {
    "collapsed": false,
    "ExecuteTime": {
     "start_time": "2023-11-28T10:03:37.785888Z",
     "end_time": "2023-11-28T10:03:37.800958Z"
    }
   }
  },
  {
   "cell_type": "code",
   "execution_count": 2,
   "outputs": [
    {
     "data": {
      "text/plain": "True"
     },
     "execution_count": 2,
     "metadata": {},
     "output_type": "execute_result"
    }
   ],
   "source": [
    "dotenv.load_dotenv()"
   ],
   "metadata": {
    "collapsed": false,
    "ExecuteTime": {
     "start_time": "2023-11-28T10:03:37.804959Z",
     "end_time": "2023-11-28T10:03:37.817208Z"
    }
   }
  },
  {
   "cell_type": "code",
   "execution_count": 3,
   "outputs": [],
   "source": [
    "# curl -X 'GET' \\\n",
    "#   'http://18.119.195.247:8080/GR33NMAYHEM_1/Project-Zebra/0.1/retrieve_all_for_media?access_token=EAAJZBJx8sWJMBOwmPaWxAD4A2eO9uZAfZBwSZAWgDxvWRfZBSXLfGCZCQk9bkuMatfwJfDWUWJqii2EN03XstTWgbljalEAZB3ZCOXIoU07YG4kRXJir5FzeBLVd35Vdw0dzJgM01dDedKXRiaZBS6P5gy5ILvTi1AW1j1PYSxwTavG1HPeG0NTyg4JmMy3ZBU1uwwGT3AmMgPOGFXGuXC2AZDZD&media_id=17967218341895309' \\\n",
    "#   -H 'accept: application/json'\n",
    "\n",
    "# call this link to get all the comments for a media"
   ],
   "metadata": {
    "collapsed": false,
    "ExecuteTime": {
     "start_time": "2023-11-28T10:03:37.820209Z",
     "end_time": "2023-11-28T10:03:37.861631Z"
    }
   }
  },
  {
   "cell_type": "code",
   "execution_count": 4,
   "outputs": [],
   "source": [
    "import requests\n",
    "\n",
    "\n",
    "def get_json_response(url):\n",
    "    headers = {\n",
    "        \"accept\": \"application/json\",\n",
    "    }\n",
    "\n",
    "    try:\n",
    "        response = requests.get(url, headers=headers)\n",
    "        # Check if the request was successful (status code 200)\n",
    "        if response.status_code == 200:\n",
    "            # Parse the response as needed\n",
    "            print(response.json())\n",
    "            return response.elapsed.total_seconds(), response.json()\n",
    "        else:\n",
    "            # If the request was not successful, print an error message\n",
    "            print(f\"Error: {response.status_code}\")\n",
    "            return -1, {}\n",
    "    except Exception as e:\n",
    "        print(f\"An error occurred: {e}\")\n"
   ],
   "metadata": {
    "collapsed": false,
    "ExecuteTime": {
     "start_time": "2023-11-28T10:03:37.836559Z",
     "end_time": "2023-11-28T10:03:39.102203Z"
    }
   }
  },
  {
   "cell_type": "code",
   "execution_count": 4,
   "outputs": [],
   "source": [],
   "metadata": {
    "collapsed": false,
    "ExecuteTime": {
     "start_time": "2023-11-28T10:03:39.102203Z",
     "end_time": "2023-11-28T10:03:39.117512Z"
    }
   }
  },
  {
   "cell_type": "code",
   "execution_count": 5,
   "outputs": [],
   "source": [
    "#A method to call the API for specific media_id and time range\n",
    "def test_analysis_range(media_id, start_time, end_time):\n",
    "    # create url using media_id and time range\n",
    "    url = \"http://18.119.195.247:8080/GR33NMAYHEM_1/Project-Zebra/0.1/get_analysis_range?media_id={0}&start_time={1}&end_time={2}\".format(\n",
    "        media_id, start_time, end_time)\n",
    "    json_response_time, json_response = get_json_response(url)\n",
    "    # Print the JSON response\n",
    "    if json_response:\n",
    "        print(json_response)\n",
    "    return json_response, json_response_time\n",
    "\n",
    "\n",
    "def test_analysis_all(media_id):\n",
    "    # create url using media_id and time range\n",
    "    url = \"http://18.119.195.247:8080/GR33NMAYHEM_1/Project-Zebra/0.1/get_analysis_all?media_id={0}\".format(\n",
    "        media_id)\n",
    "    json_response_time, json_response = get_json_response(url)\n",
    "    # Print the JSON response\n",
    "    if json_response:\n",
    "        print(json_response)\n",
    "    return json_response, json_response_time\n",
    "\n",
    "\n",
    "def test_analysis_latest(media_id):\n",
    "    # create url using media_id and time range\n",
    "    url = \"http://18.119.195.247:8080/GR33NMAYHEM_1/Project-Zebra/0.1/get_analysis_latest?media_id={0}\".format(\n",
    "        media_id)\n",
    "    json_response_time, json_response = get_json_response(url)\n",
    "    # Print the JSON response\n",
    "    if json_response:\n",
    "        print(json_response)\n",
    "    return json_response, json_response_time\n",
    "\n",
    "\n",
    "def test_retrieve_all(media_id):\n",
    "    # create url using media_id and time range\n",
    "    url = \"http://18.119.195.247:8080/GR33NMAYHEM_1/Project-Zebra/0.1/retrieve_all_for_media?access_token={0}&media_id={1}\".format(\n",
    "        os.getenv('FB_TOKEN'), media_id)\n",
    "    json_response_time, json_response = get_json_response(url)\n",
    "    # Print the JSON response\n",
    "    if json_response:\n",
    "        print(json_response)\n",
    "    return json_response, json_response_time"
   ],
   "metadata": {
    "collapsed": false,
    "ExecuteTime": {
     "start_time": "2023-11-28T10:03:39.119029Z",
     "end_time": "2023-11-28T10:03:39.136034Z"
    }
   }
  },
  {
   "cell_type": "code",
   "execution_count": 5,
   "outputs": [],
   "source": [],
   "metadata": {
    "collapsed": false,
    "ExecuteTime": {
     "start_time": "2023-11-28T10:03:39.132049Z",
     "end_time": "2023-11-28T10:03:39.145051Z"
    }
   }
  },
  {
   "cell_type": "code",
   "execution_count": 6,
   "outputs": [],
   "source": [
    "media_ids = [\"18199968451168415\", \"17996406685483772\", \"18235437283122031\", \"17967218341895309\"]"
   ],
   "metadata": {
    "collapsed": false,
    "ExecuteTime": {
     "start_time": "2023-11-28T10:03:39.148037Z",
     "end_time": "2023-11-28T10:03:39.167401Z"
    }
   }
  },
  {
   "cell_type": "code",
   "execution_count": 7,
   "outputs": [
    {
     "name": "stdout",
     "output_type": "stream",
     "text": [
      "{'average_magnitude': 0.1020408067472127, 'id': '18199968451168415', 'sentiment_scores': [{'date': 1701148355.0, 'id': '17980846253608417', 'score': -0.699999988079071, 'text': \"Honestly, it's a bit monotonous.\"}, {'date': 1701148348.0, 'id': '18079343947416771', 'score': -0.800000011920929, 'text': \"I don't see myself listening to this again.\"}, {'date': 1701148341.0, 'id': '18037486405615292', 'score': -0.800000011920929, 'text': \"Seems like it's trying too hard to be trendy.\"}, {'date': 1701148333.0, 'id': '18009069809109630', 'score': -0.800000011920929, 'text': 'The song lacks a distinctive identity.'}, {'date': 1701148177.0, 'id': '17850817425092915', 'score': -0.20000000298023224, 'text': \"I just can't get into the groove of this one.\"}, {'date': 1701148169.0, 'id': '17868696296982147', 'score': -0.800000011920929, 'text': 'I find the melody forgettable, unfortunately.'}, {'date': 1701148159.0, 'id': '18100975846335340', 'score': -0.5, 'text': 'The production could use some refinement.'}, {'date': 1701148153.0, 'id': '18012299339069235', 'score': -0.800000011920929, 'text': 'I expected more energy – it fell flat.'}, {'date': 1701148146.0, 'id': '18288547858148902', 'score': -0.800000011920929, 'text': 'Lyrics are a bit cheesy, not my style.'}, {'date': 1701148140.0, 'id': '18033626491628836', 'score': -0.800000011920929, 'text': \"Too slow for my liking, it's dragging.\"}, {'date': 1701148134.0, 'id': '18027984298761910', 'score': -0.800000011920929, 'text': 'Not sure what the fuss is about – overrated.'}, {'date': 1701148128.0, 'id': '18001198661201715', 'score': -0.699999988079071, 'text': \"This song doesn't stand out in the crowd.\"}, {'date': 1701148122.0, 'id': '18031639612662507', 'score': -0.800000011920929, 'text': 'The beat is too repetitive for my taste.'}, {'date': 1701148115.0, 'id': '17993847869373913', 'score': -0.800000011920929, 'text': 'Feels a bit generic, lacking originality.'}, {'date': 1701148108.0, 'id': '17996451899141853', 'score': -0.800000011920929, 'text': \"I can't connect with the message of the song.\"}, {'date': 1701148099.0, 'id': '17989416233270932', 'score': -0.800000011920929, 'text': 'Vocals are a bit off, needs improvement.'}, {'date': 1701148092.0, 'id': '18299546881192677', 'score': -0.800000011920929, 'text': \"Honestly, I don't get the hype.\"}, {'date': 1701148083.0, 'id': '17993827337185373', 'score': -0.10000000149011612, 'text': \"Feels like I've heard this same tune a hundred times.\"}, {'date': 1701148076.0, 'id': '18011560472017223', 'score': -0.699999988079071, 'text': 'The lyrics are a bit cliché, expected more.'}, {'date': 1701148070.0, 'id': '17939323613768930', 'score': -0.800000011920929, 'text': 'Not my cup of tea, sorry.'}, {'date': 1701148060.0, 'id': '17958472652574768', 'score': 0.699999988079071, 'text': \"Sharing this with everyone – it's too good not to!\"}, {'date': 1701148054.0, 'id': '17876638277995012', 'score': 0.8999999761581421, 'text': 'Talent level: off the charts!'}, {'date': 1701148046.0, 'id': '17852067183084124', 'score': 0.8999999761581421, 'text': \"Such a unique sound, I can't get enough!\"}, {'date': 1701148039.0, 'id': '18028095019741367', 'score': 0.8999999761581421, 'text': 'An emotional journey through music – stunning!'}, {'date': 1701148026.0, 'id': '17873672667005671', 'score': 0.8999999761581421, 'text': 'This song is my go-to for lifting my spirits!'}, {'date': 1701148018.0, 'id': '17996650310134411', 'score': 0.8999999761581421, 'text': 'Absolutely in love with the harmonies!'}, {'date': 1701148011.0, 'id': '17995529654458638', 'score': 0.8999999761581421, 'text': 'I can feel the passion behind every lyric.'}, {'date': 1701148005.0, 'id': '17857881891037744', 'score': 0.8999999761581421, 'text': 'The beat drop is everything!'}, {'date': 1701147998.0, 'id': '18292913833148723', 'score': 0.800000011920929, 'text': 'Bravo to the artist! This is next-level amazing!'}, {'date': 1701147991.0, 'id': '18029189494706572', 'score': 0.8999999761581421, 'text': 'Instant good vibes with this track!'}, {'date': 1701147981.0, 'id': '18052345585511772', 'score': 0.8999999761581421, 'text': 'The instrumentals are on point – such talent!'}, {'date': 1701147974.0, 'id': '18022414855726544', 'score': 0.8999999761581421, 'text': 'This song has been on my playlist non-stop!'}, {'date': 1701147966.0, 'id': '17977532450618254', 'score': 0.8999999761581421, 'text': 'A masterpiece that deserves all the love!'}, {'date': 1701147957.0, 'id': '17961623774546096', 'score': 0.8999999761581421, 'text': 'Perfect mood booster!'}, {'date': 1701147931.0, 'id': '18398512933043129', 'score': 0.6000000238418579, 'text': 'Obsessed with the vocals! 😍'}, {'date': 1701147919.0, 'id': '18055710898500997', 'score': 0.8999999761581421, 'text': 'The lyrics speak to my soul. Beautifully written!'}, {'date': 1701147912.0, 'id': '18124592260316147', 'score': 0.8999999761581421, 'text': \"Listening to this on repeat – it's my new anthem!\"}, {'date': 1701147903.0, 'id': '18012004495886518', 'score': 0.6000000238418579, 'text': 'Pure magic in every note! ✨'}, {'date': 1701147886.0, 'id': '18043327762516509', 'score': 0.8999999761581421, 'text': \"The melody is so catchy, I can't stop humming it!\"}, {'date': 1701147876.0, 'id': '18010461530091593', 'score': 0.6000000238418579, 'text': 'This song is an absolute banger! 🔥'}, {'date': 1701110894.0, 'id': '18029876317732298', 'score': 0.6000000238418579, 'text': 'Not a bad project'}, {'date': 1701110874.0, 'id': '18209587612282528', 'score': 0.8999999761581421, 'text': 'Nice project'}, {'date': 1701110872.0, 'id': '17977875953446447', 'score': 0.8999999761581421, 'text': 'I really like how musical the game is!'}, {'date': 1701110859.0, 'id': '18027737479631967', 'score': -0.800000011920929, 'text': \"It is very laggy and it's hard to play!!\"}, {'date': 1701110843.0, 'id': '18292248778179595', 'score': 0.0, 'text': 'Can it run on older phones?'}, {'date': 1701110830.0, 'id': '17981481983380220', 'score': -0.800000011920929, 'text': 'The controls are hard to understand unfortunately 😔'}, {'date': 1701110816.0, 'id': '18206404630282548', 'score': 0.8999999761581421, 'text': \"That's so cool!\"}, {'date': 1668361233.0, 'id': '17941619816296830', 'score': 0.30000001192092896, 'text': '😍😍🔥🔥'}, {'date': 1668349564.0, 'id': '17935961024352323', 'score': 0.30000001192092896, 'text': '🔥🔥🔥🙌'}]}\n",
      "{'average_magnitude': 0.1020408067472127, 'id': '18199968451168415', 'sentiment_scores': [{'date': 1701148355.0, 'id': '17980846253608417', 'score': -0.699999988079071, 'text': \"Honestly, it's a bit monotonous.\"}, {'date': 1701148348.0, 'id': '18079343947416771', 'score': -0.800000011920929, 'text': \"I don't see myself listening to this again.\"}, {'date': 1701148341.0, 'id': '18037486405615292', 'score': -0.800000011920929, 'text': \"Seems like it's trying too hard to be trendy.\"}, {'date': 1701148333.0, 'id': '18009069809109630', 'score': -0.800000011920929, 'text': 'The song lacks a distinctive identity.'}, {'date': 1701148177.0, 'id': '17850817425092915', 'score': -0.20000000298023224, 'text': \"I just can't get into the groove of this one.\"}, {'date': 1701148169.0, 'id': '17868696296982147', 'score': -0.800000011920929, 'text': 'I find the melody forgettable, unfortunately.'}, {'date': 1701148159.0, 'id': '18100975846335340', 'score': -0.5, 'text': 'The production could use some refinement.'}, {'date': 1701148153.0, 'id': '18012299339069235', 'score': -0.800000011920929, 'text': 'I expected more energy – it fell flat.'}, {'date': 1701148146.0, 'id': '18288547858148902', 'score': -0.800000011920929, 'text': 'Lyrics are a bit cheesy, not my style.'}, {'date': 1701148140.0, 'id': '18033626491628836', 'score': -0.800000011920929, 'text': \"Too slow for my liking, it's dragging.\"}, {'date': 1701148134.0, 'id': '18027984298761910', 'score': -0.800000011920929, 'text': 'Not sure what the fuss is about – overrated.'}, {'date': 1701148128.0, 'id': '18001198661201715', 'score': -0.699999988079071, 'text': \"This song doesn't stand out in the crowd.\"}, {'date': 1701148122.0, 'id': '18031639612662507', 'score': -0.800000011920929, 'text': 'The beat is too repetitive for my taste.'}, {'date': 1701148115.0, 'id': '17993847869373913', 'score': -0.800000011920929, 'text': 'Feels a bit generic, lacking originality.'}, {'date': 1701148108.0, 'id': '17996451899141853', 'score': -0.800000011920929, 'text': \"I can't connect with the message of the song.\"}, {'date': 1701148099.0, 'id': '17989416233270932', 'score': -0.800000011920929, 'text': 'Vocals are a bit off, needs improvement.'}, {'date': 1701148092.0, 'id': '18299546881192677', 'score': -0.800000011920929, 'text': \"Honestly, I don't get the hype.\"}, {'date': 1701148083.0, 'id': '17993827337185373', 'score': -0.10000000149011612, 'text': \"Feels like I've heard this same tune a hundred times.\"}, {'date': 1701148076.0, 'id': '18011560472017223', 'score': -0.699999988079071, 'text': 'The lyrics are a bit cliché, expected more.'}, {'date': 1701148070.0, 'id': '17939323613768930', 'score': -0.800000011920929, 'text': 'Not my cup of tea, sorry.'}, {'date': 1701148060.0, 'id': '17958472652574768', 'score': 0.699999988079071, 'text': \"Sharing this with everyone – it's too good not to!\"}, {'date': 1701148054.0, 'id': '17876638277995012', 'score': 0.8999999761581421, 'text': 'Talent level: off the charts!'}, {'date': 1701148046.0, 'id': '17852067183084124', 'score': 0.8999999761581421, 'text': \"Such a unique sound, I can't get enough!\"}, {'date': 1701148039.0, 'id': '18028095019741367', 'score': 0.8999999761581421, 'text': 'An emotional journey through music – stunning!'}, {'date': 1701148026.0, 'id': '17873672667005671', 'score': 0.8999999761581421, 'text': 'This song is my go-to for lifting my spirits!'}, {'date': 1701148018.0, 'id': '17996650310134411', 'score': 0.8999999761581421, 'text': 'Absolutely in love with the harmonies!'}, {'date': 1701148011.0, 'id': '17995529654458638', 'score': 0.8999999761581421, 'text': 'I can feel the passion behind every lyric.'}, {'date': 1701148005.0, 'id': '17857881891037744', 'score': 0.8999999761581421, 'text': 'The beat drop is everything!'}, {'date': 1701147998.0, 'id': '18292913833148723', 'score': 0.800000011920929, 'text': 'Bravo to the artist! This is next-level amazing!'}, {'date': 1701147991.0, 'id': '18029189494706572', 'score': 0.8999999761581421, 'text': 'Instant good vibes with this track!'}, {'date': 1701147981.0, 'id': '18052345585511772', 'score': 0.8999999761581421, 'text': 'The instrumentals are on point – such talent!'}, {'date': 1701147974.0, 'id': '18022414855726544', 'score': 0.8999999761581421, 'text': 'This song has been on my playlist non-stop!'}, {'date': 1701147966.0, 'id': '17977532450618254', 'score': 0.8999999761581421, 'text': 'A masterpiece that deserves all the love!'}, {'date': 1701147957.0, 'id': '17961623774546096', 'score': 0.8999999761581421, 'text': 'Perfect mood booster!'}, {'date': 1701147931.0, 'id': '18398512933043129', 'score': 0.6000000238418579, 'text': 'Obsessed with the vocals! 😍'}, {'date': 1701147919.0, 'id': '18055710898500997', 'score': 0.8999999761581421, 'text': 'The lyrics speak to my soul. Beautifully written!'}, {'date': 1701147912.0, 'id': '18124592260316147', 'score': 0.8999999761581421, 'text': \"Listening to this on repeat – it's my new anthem!\"}, {'date': 1701147903.0, 'id': '18012004495886518', 'score': 0.6000000238418579, 'text': 'Pure magic in every note! ✨'}, {'date': 1701147886.0, 'id': '18043327762516509', 'score': 0.8999999761581421, 'text': \"The melody is so catchy, I can't stop humming it!\"}, {'date': 1701147876.0, 'id': '18010461530091593', 'score': 0.6000000238418579, 'text': 'This song is an absolute banger! 🔥'}, {'date': 1701110894.0, 'id': '18029876317732298', 'score': 0.6000000238418579, 'text': 'Not a bad project'}, {'date': 1701110874.0, 'id': '18209587612282528', 'score': 0.8999999761581421, 'text': 'Nice project'}, {'date': 1701110872.0, 'id': '17977875953446447', 'score': 0.8999999761581421, 'text': 'I really like how musical the game is!'}, {'date': 1701110859.0, 'id': '18027737479631967', 'score': -0.800000011920929, 'text': \"It is very laggy and it's hard to play!!\"}, {'date': 1701110843.0, 'id': '18292248778179595', 'score': 0.0, 'text': 'Can it run on older phones?'}, {'date': 1701110830.0, 'id': '17981481983380220', 'score': -0.800000011920929, 'text': 'The controls are hard to understand unfortunately 😔'}, {'date': 1701110816.0, 'id': '18206404630282548', 'score': 0.8999999761581421, 'text': \"That's so cool!\"}, {'date': 1668361233.0, 'id': '17941619816296830', 'score': 0.30000001192092896, 'text': '😍😍🔥🔥'}, {'date': 1668349564.0, 'id': '17935961024352323', 'score': 0.30000001192092896, 'text': '🔥🔥🔥🙌'}]}\n",
      "{'average_magnitude': 0.2043478137449078, 'id': '17996406685483772', 'sentiment_scores': [{'date': 1701149057.0, 'id': '18025494127773045', 'score': 0.5, 'text': 'It feels like a quick project rather than a fully fleshed-out game.'}, {'date': 1701149050.0, 'id': '17983479080593717', 'score': -0.30000001192092896, 'text': 'I wish there were more options or settings to customize.'}, {'date': 1701149041.0, 'id': '17936840522773327', 'score': -0.6000000238418579, 'text': 'I expected more challenges or levels to explore.'}, {'date': 1701149035.0, 'id': '18324108451109540', 'score': -0.800000011920929, 'text': 'The lack of a storyline makes it less compelling.'}, {'date': 1701149031.0, 'id': '17930601065793199', 'score': -0.800000011920929, 'text': 'Not enough depth to keep me engaged for long.'}, {'date': 1701149026.0, 'id': '18319145344108332', 'score': -0.6000000238418579, 'text': 'I was hoping for a bit more innovation in the gameplay.'}, {'date': 1701149022.0, 'id': '17947088168723525', 'score': -0.30000001192092896, 'text': 'The graphics could use a modern touch.'}, {'date': 1701149017.0, 'id': '17854327317081010', 'score': -0.699999988079071, 'text': \"This game doesn't offer much in terms of variety.\"}, {'date': 1701149011.0, 'id': '18006566108151289', 'score': -0.699999988079071, 'text': 'I found the game to be a bit too repetitive.'}, {'date': 1701149003.0, 'id': '17851176507091190', 'score': -0.699999988079071, 'text': 'The sound effects are a bit annoying after a while.'}, {'date': 1701148997.0, 'id': '17867140017022403', 'score': 0.6000000238418579, 'text': 'The simplicity makes it feel more like a demo than a full game.'}, {'date': 1701148992.0, 'id': '18010700138090935', 'score': 0.10000000149011612, 'text': \"It feels like something I've seen a million times before.\"}, {'date': 1701148987.0, 'id': '17996386946366100', 'score': -0.20000000298023224, 'text': 'I wish there were more features to keep it interesting.'}, {'date': 1701148980.0, 'id': '18027264421771573', 'score': -0.800000011920929, 'text': 'The game lacks a clear objective or goal.'}, {'date': 1701148976.0, 'id': '17986883903316465', 'score': -0.699999988079071, 'text': 'Controls are a bit clunky and could be smoother.'}, {'date': 1701148970.0, 'id': '18000696020512358', 'score': -0.800000011920929, 'text': 'The concept feels a bit too familiar, lacking originality.'}, {'date': 1701148964.0, 'id': '18027320638751812', 'score': -0.699999988079071, 'text': 'I expected more depth in terms of gameplay.'}, {'date': 1701148853.0, 'id': '17924497619751890', 'score': -0.800000011920929, 'text': 'Not very challenging – I got bored quickly.'}, {'date': 1701148841.0, 'id': '18032825020637437', 'score': -0.6000000238418579, 'text': 'Graphics are a bit outdated – could use an upgrade.'}, {'date': 1701148835.0, 'id': '17992353410455391', 'score': -0.800000011920929, 'text': 'Honestly, this game is a bit too basic for my taste.'}, {'date': 1701148817.0, 'id': '17979501977416139', 'score': 0.8999999761581421, 'text': 'I appreciate the effort put into creating something so enjoyable yet uncomplicated.'}, {'date': 1701148798.0, 'id': '17857853610038171', 'score': 0.8999999761581421, 'text': 'The straightforward gameplay makes it accessible for all ages.'}, {'date': 1701148775.0, 'id': '18019778383895946', 'score': 0.20000000298023224, 'text': 'This game is a great example of less is more in game development.'}, {'date': 1701148770.0, 'id': '18029094556683079', 'score': 0.8999999761581421, 'text': 'The simplicity allows for a wide audience to enjoy it. Smart move!'}, {'date': 1701148765.0, 'id': '18007690565122639', 'score': 0.8999999761581421, 'text': 'I can see myself playing this during downtime regularly.'}, {'date': 1701148759.0, 'id': '17967775439648269', 'score': 0.8999999761581421, 'text': 'The sound effects add a nice touch to the overall experience.'}, {'date': 1701148753.0, 'id': '18024399277798675', 'score': 0.8999999761581421, 'text': 'This game brings back nostalgic feelings of classic gaming.'}, {'date': 1701148747.0, 'id': '17935211321772447', 'score': 0.699999988079071, 'text': \"It's clear a lot of thought went into the game design. Impressive!\"}, {'date': 1701148741.0, 'id': '17937188411772421', 'score': 0.8999999761581421, 'text': 'I love how this game challenges without being too complex.'}, {'date': 1701148735.0, 'id': '17872029684009370', 'score': 0.8999999761581421, 'text': 'The controls are so intuitive – makes for a seamless experience.'}, {'date': 1701148729.0, 'id': '17859272280061910', 'score': 0.8999999761581421, 'text': 'Well done on creating something so engaging with simplicity!'}, {'date': 1701148723.0, 'id': '18069098200444314', 'score': 0.8999999761581421, 'text': 'A game that anyone can enjoy – inclusive and accessible.'}, {'date': 1701148717.0, 'id': '18100200622368059', 'score': 0.8999999761581421, 'text': 'Great concept! I enjoy the straightforward gameplay.'}, {'date': 1701148712.0, 'id': '18009136546913193', 'score': 0.8999999761581421, 'text': \"I appreciate the minimalistic design – it's refreshing.\"}, {'date': 1701148705.0, 'id': '18315683518137353', 'score': 0.8999999761581421, 'text': 'The graphics may be basic, but the gameplay is fantastic!'}, {'date': 1701148698.0, 'id': '17991434858437555', 'score': 0.8999999761581421, 'text': 'Perfect for a quick break – thanks for the distraction!'}, {'date': 1701148691.0, 'id': '17876421803948204', 'score': 0.8999999761581421, 'text': 'Simple yet entertaining – great job!'}, {'date': 1701148685.0, 'id': '18030350524727245', 'score': 0.8999999761581421, 'text': \"This game is surprisingly addictive. Can't stop playing!\"}, {'date': 1701148680.0, 'id': '18050784139475615', 'score': 0.8999999761581421, 'text': 'Kudos to the creator! Such a fun little game.'}, {'date': 1701148674.0, 'id': '18046970368537648', 'score': 0.8999999761581421, 'text': 'Loving the simplicity of this game – easy to pick up and play!'}, {'date': 1701110936.0, 'id': '18110224798344111', 'score': 0.8999999761581421, 'text': \"Wow! I'm looking forward to more games you make!\"}, {'date': 1701110922.0, 'id': '18119899888325898', 'score': -0.800000011920929, 'text': 'For a 2D application it lags a lot!'}, {'date': 1701110910.0, 'id': '18123921085316996', 'score': 0.0, 'text': 'The game is nice but it could use some refining.'}, {'date': 1701110899.0, 'id': '17929194917696703', 'score': 0.8999999761581421, 'text': 'I really like 2D games like this!'}, {'date': 1664986786.0, 'id': '18000937057501920', 'score': 0.800000011920929, 'text': 'Bhai best best best best best @antisocial__extrovert__ 🔥🔥'}, {'date': 1664958993.0, 'id': '17992196536520193', 'score': 0.20000000298023224, 'text': '😮😮'}]}\n",
      "{'average_magnitude': 0.2043478137449078, 'id': '17996406685483772', 'sentiment_scores': [{'date': 1701149057.0, 'id': '18025494127773045', 'score': 0.5, 'text': 'It feels like a quick project rather than a fully fleshed-out game.'}, {'date': 1701149050.0, 'id': '17983479080593717', 'score': -0.30000001192092896, 'text': 'I wish there were more options or settings to customize.'}, {'date': 1701149041.0, 'id': '17936840522773327', 'score': -0.6000000238418579, 'text': 'I expected more challenges or levels to explore.'}, {'date': 1701149035.0, 'id': '18324108451109540', 'score': -0.800000011920929, 'text': 'The lack of a storyline makes it less compelling.'}, {'date': 1701149031.0, 'id': '17930601065793199', 'score': -0.800000011920929, 'text': 'Not enough depth to keep me engaged for long.'}, {'date': 1701149026.0, 'id': '18319145344108332', 'score': -0.6000000238418579, 'text': 'I was hoping for a bit more innovation in the gameplay.'}, {'date': 1701149022.0, 'id': '17947088168723525', 'score': -0.30000001192092896, 'text': 'The graphics could use a modern touch.'}, {'date': 1701149017.0, 'id': '17854327317081010', 'score': -0.699999988079071, 'text': \"This game doesn't offer much in terms of variety.\"}, {'date': 1701149011.0, 'id': '18006566108151289', 'score': -0.699999988079071, 'text': 'I found the game to be a bit too repetitive.'}, {'date': 1701149003.0, 'id': '17851176507091190', 'score': -0.699999988079071, 'text': 'The sound effects are a bit annoying after a while.'}, {'date': 1701148997.0, 'id': '17867140017022403', 'score': 0.6000000238418579, 'text': 'The simplicity makes it feel more like a demo than a full game.'}, {'date': 1701148992.0, 'id': '18010700138090935', 'score': 0.10000000149011612, 'text': \"It feels like something I've seen a million times before.\"}, {'date': 1701148987.0, 'id': '17996386946366100', 'score': -0.20000000298023224, 'text': 'I wish there were more features to keep it interesting.'}, {'date': 1701148980.0, 'id': '18027264421771573', 'score': -0.800000011920929, 'text': 'The game lacks a clear objective or goal.'}, {'date': 1701148976.0, 'id': '17986883903316465', 'score': -0.699999988079071, 'text': 'Controls are a bit clunky and could be smoother.'}, {'date': 1701148970.0, 'id': '18000696020512358', 'score': -0.800000011920929, 'text': 'The concept feels a bit too familiar, lacking originality.'}, {'date': 1701148964.0, 'id': '18027320638751812', 'score': -0.699999988079071, 'text': 'I expected more depth in terms of gameplay.'}, {'date': 1701148853.0, 'id': '17924497619751890', 'score': -0.800000011920929, 'text': 'Not very challenging – I got bored quickly.'}, {'date': 1701148841.0, 'id': '18032825020637437', 'score': -0.6000000238418579, 'text': 'Graphics are a bit outdated – could use an upgrade.'}, {'date': 1701148835.0, 'id': '17992353410455391', 'score': -0.800000011920929, 'text': 'Honestly, this game is a bit too basic for my taste.'}, {'date': 1701148817.0, 'id': '17979501977416139', 'score': 0.8999999761581421, 'text': 'I appreciate the effort put into creating something so enjoyable yet uncomplicated.'}, {'date': 1701148798.0, 'id': '17857853610038171', 'score': 0.8999999761581421, 'text': 'The straightforward gameplay makes it accessible for all ages.'}, {'date': 1701148775.0, 'id': '18019778383895946', 'score': 0.20000000298023224, 'text': 'This game is a great example of less is more in game development.'}, {'date': 1701148770.0, 'id': '18029094556683079', 'score': 0.8999999761581421, 'text': 'The simplicity allows for a wide audience to enjoy it. Smart move!'}, {'date': 1701148765.0, 'id': '18007690565122639', 'score': 0.8999999761581421, 'text': 'I can see myself playing this during downtime regularly.'}, {'date': 1701148759.0, 'id': '17967775439648269', 'score': 0.8999999761581421, 'text': 'The sound effects add a nice touch to the overall experience.'}, {'date': 1701148753.0, 'id': '18024399277798675', 'score': 0.8999999761581421, 'text': 'This game brings back nostalgic feelings of classic gaming.'}, {'date': 1701148747.0, 'id': '17935211321772447', 'score': 0.699999988079071, 'text': \"It's clear a lot of thought went into the game design. Impressive!\"}, {'date': 1701148741.0, 'id': '17937188411772421', 'score': 0.8999999761581421, 'text': 'I love how this game challenges without being too complex.'}, {'date': 1701148735.0, 'id': '17872029684009370', 'score': 0.8999999761581421, 'text': 'The controls are so intuitive – makes for a seamless experience.'}, {'date': 1701148729.0, 'id': '17859272280061910', 'score': 0.8999999761581421, 'text': 'Well done on creating something so engaging with simplicity!'}, {'date': 1701148723.0, 'id': '18069098200444314', 'score': 0.8999999761581421, 'text': 'A game that anyone can enjoy – inclusive and accessible.'}, {'date': 1701148717.0, 'id': '18100200622368059', 'score': 0.8999999761581421, 'text': 'Great concept! I enjoy the straightforward gameplay.'}, {'date': 1701148712.0, 'id': '18009136546913193', 'score': 0.8999999761581421, 'text': \"I appreciate the minimalistic design – it's refreshing.\"}, {'date': 1701148705.0, 'id': '18315683518137353', 'score': 0.8999999761581421, 'text': 'The graphics may be basic, but the gameplay is fantastic!'}, {'date': 1701148698.0, 'id': '17991434858437555', 'score': 0.8999999761581421, 'text': 'Perfect for a quick break – thanks for the distraction!'}, {'date': 1701148691.0, 'id': '17876421803948204', 'score': 0.8999999761581421, 'text': 'Simple yet entertaining – great job!'}, {'date': 1701148685.0, 'id': '18030350524727245', 'score': 0.8999999761581421, 'text': \"This game is surprisingly addictive. Can't stop playing!\"}, {'date': 1701148680.0, 'id': '18050784139475615', 'score': 0.8999999761581421, 'text': 'Kudos to the creator! Such a fun little game.'}, {'date': 1701148674.0, 'id': '18046970368537648', 'score': 0.8999999761581421, 'text': 'Loving the simplicity of this game – easy to pick up and play!'}, {'date': 1701110936.0, 'id': '18110224798344111', 'score': 0.8999999761581421, 'text': \"Wow! I'm looking forward to more games you make!\"}, {'date': 1701110922.0, 'id': '18119899888325898', 'score': -0.800000011920929, 'text': 'For a 2D application it lags a lot!'}, {'date': 1701110910.0, 'id': '18123921085316996', 'score': 0.0, 'text': 'The game is nice but it could use some refining.'}, {'date': 1701110899.0, 'id': '17929194917696703', 'score': 0.8999999761581421, 'text': 'I really like 2D games like this!'}, {'date': 1664986786.0, 'id': '18000937057501920', 'score': 0.800000011920929, 'text': 'Bhai best best best best best @antisocial__extrovert__ 🔥🔥'}, {'date': 1664958993.0, 'id': '17992196536520193', 'score': 0.20000000298023224, 'text': '😮😮'}]}\n",
      "{'average_magnitude': 0.6423076789539593, 'id': '18235437283122031', 'sentiment_scores': [{'date': 1701149434.0, 'id': '17956663871695799', 'score': 0.8999999761581421, 'text': 'Effortlessly enjoyable – kudos for creating such an uncomplicated gem.'}, {'date': 1701149428.0, 'id': '17886017561905723', 'score': 0.8999999761581421, 'text': 'Accessible to all ages – the straightforward gameplay is a win!'}, {'date': 1701149422.0, 'id': '17982646661608962', 'score': 0.10000000149011612, 'text': 'A shining example of how less can indeed be more in game development.'}, {'date': 1701149417.0, 'id': '17911743146848642', 'score': 0.800000011920929, 'text': 'Smart move with the simplicity – appeals to a broad audience.'}, {'date': 1701149411.0, 'id': '18301291567135667', 'score': 0.800000011920929, 'text': 'I foresee myself making this a regular part of my downtime!'}, {'date': 1701149406.0, 'id': '18047495710527851', 'score': 0.8999999761581421, 'text': 'A nice touch with the sound effects – enhances the experience.'}, {'date': 1701149400.0, 'id': '17962669166675166', 'score': 0.800000011920929, 'text': 'Nostalgic vibes! This game brings back memories of classic gaming.'}, {'date': 1701149393.0, 'id': '17880274109983988', 'score': 0.8999999761581421, 'text': 'Impressive attention to detail in the thoughtful game design.'}, {'date': 1701149388.0, 'id': '18001921460194603', 'score': 0.8999999761581421, 'text': 'Strikes the perfect balance between challenge and simplicity!'}, {'date': 1701149383.0, 'id': '17992167662395198', 'score': 0.800000011920929, 'text': 'Seamless controls make for an immersive gaming experience.'}, {'date': 1701149378.0, 'id': '18003012005191186', 'score': 0.8999999761581421, 'text': 'Engaging and enjoyable – a masterpiece of simplicity!'}, {'date': 1701149373.0, 'id': '17995438784150080', 'score': 0.8999999761581421, 'text': 'Inclusivity shines through – a game for everyone to enjoy!'}, {'date': 1701149368.0, 'id': '18014062870973381', 'score': 0.8999999761581421, 'text': 'The straightforward gameplay concept is executed flawlessly.'}, {'date': 1701149363.0, 'id': '17932939619785395', 'score': 0.8999999761581421, 'text': 'Refreshing minimalistic design – a standout quality.'}, {'date': 1701149357.0, 'id': '18000172889265220', 'score': 0.8999999761581421, 'text': 'The gameplay is fantastic, even with basic graphics!'}, {'date': 1701149348.0, 'id': '18018977629910285', 'score': 0.8999999761581421, 'text': 'Ideal for a quick break – thanks for the entertaining diversion!'}, {'date': 1701149332.0, 'id': '18006893359973573', 'score': 0.8999999761581421, 'text': 'Ideal for a quick break – thanks for the entertaining diversion!'}, {'date': 1701149327.0, 'id': '17884330103968257', 'score': 0.8999999761581421, 'text': 'Well-executed simplicity – a testament to great game design!'}, {'date': 1701149319.0, 'id': '17942452061642920', 'score': 0.8999999761581421, 'text': \"I'm hooked on the addictive nature of this game – can't get enough!\"}, {'date': 1701149314.0, 'id': '18276163306080883', 'score': 0.8999999761581421, 'text': \"Shoutout to the creative mind behind this game – it's a blast!\"}, {'date': 1701149307.0, 'id': '18204005269274862', 'score': 0.8999999761581421, 'text': 'The simplicity of this game makes it incredibly user-friendly!'}, {'date': 1701111022.0, 'id': '17979059417410373', 'score': -0.800000011920929, 'text': 'Why does a game so bad even have ads!'}, {'date': 1701111008.0, 'id': '18041482327587146', 'score': -0.8999999761581421, 'text': \"I don't like it 😮\\u200d💨\"}, {'date': 1701110993.0, 'id': '18011200793049882', 'score': -0.4000000059604645, 'text': \"The Idea is nice but the game itself is very boring. It could have some more complexities but it's too simple.\"}, {'date': 1701110947.0, 'id': '17981924114364491', 'score': 0.8999999761581421, 'text': 'Hahahaha, this is sooo funny!'}, {'date': 1664958976.0, 'id': '17958883544013119', 'score': 0.20000000298023224, 'text': '😂'}]}\n",
      "{'average_magnitude': 0.6423076789539593, 'id': '18235437283122031', 'sentiment_scores': [{'date': 1701149434.0, 'id': '17956663871695799', 'score': 0.8999999761581421, 'text': 'Effortlessly enjoyable – kudos for creating such an uncomplicated gem.'}, {'date': 1701149428.0, 'id': '17886017561905723', 'score': 0.8999999761581421, 'text': 'Accessible to all ages – the straightforward gameplay is a win!'}, {'date': 1701149422.0, 'id': '17982646661608962', 'score': 0.10000000149011612, 'text': 'A shining example of how less can indeed be more in game development.'}, {'date': 1701149417.0, 'id': '17911743146848642', 'score': 0.800000011920929, 'text': 'Smart move with the simplicity – appeals to a broad audience.'}, {'date': 1701149411.0, 'id': '18301291567135667', 'score': 0.800000011920929, 'text': 'I foresee myself making this a regular part of my downtime!'}, {'date': 1701149406.0, 'id': '18047495710527851', 'score': 0.8999999761581421, 'text': 'A nice touch with the sound effects – enhances the experience.'}, {'date': 1701149400.0, 'id': '17962669166675166', 'score': 0.800000011920929, 'text': 'Nostalgic vibes! This game brings back memories of classic gaming.'}, {'date': 1701149393.0, 'id': '17880274109983988', 'score': 0.8999999761581421, 'text': 'Impressive attention to detail in the thoughtful game design.'}, {'date': 1701149388.0, 'id': '18001921460194603', 'score': 0.8999999761581421, 'text': 'Strikes the perfect balance between challenge and simplicity!'}, {'date': 1701149383.0, 'id': '17992167662395198', 'score': 0.800000011920929, 'text': 'Seamless controls make for an immersive gaming experience.'}, {'date': 1701149378.0, 'id': '18003012005191186', 'score': 0.8999999761581421, 'text': 'Engaging and enjoyable – a masterpiece of simplicity!'}, {'date': 1701149373.0, 'id': '17995438784150080', 'score': 0.8999999761581421, 'text': 'Inclusivity shines through – a game for everyone to enjoy!'}, {'date': 1701149368.0, 'id': '18014062870973381', 'score': 0.8999999761581421, 'text': 'The straightforward gameplay concept is executed flawlessly.'}, {'date': 1701149363.0, 'id': '17932939619785395', 'score': 0.8999999761581421, 'text': 'Refreshing minimalistic design – a standout quality.'}, {'date': 1701149357.0, 'id': '18000172889265220', 'score': 0.8999999761581421, 'text': 'The gameplay is fantastic, even with basic graphics!'}, {'date': 1701149348.0, 'id': '18018977629910285', 'score': 0.8999999761581421, 'text': 'Ideal for a quick break – thanks for the entertaining diversion!'}, {'date': 1701149332.0, 'id': '18006893359973573', 'score': 0.8999999761581421, 'text': 'Ideal for a quick break – thanks for the entertaining diversion!'}, {'date': 1701149327.0, 'id': '17884330103968257', 'score': 0.8999999761581421, 'text': 'Well-executed simplicity – a testament to great game design!'}, {'date': 1701149319.0, 'id': '17942452061642920', 'score': 0.8999999761581421, 'text': \"I'm hooked on the addictive nature of this game – can't get enough!\"}, {'date': 1701149314.0, 'id': '18276163306080883', 'score': 0.8999999761581421, 'text': \"Shoutout to the creative mind behind this game – it's a blast!\"}, {'date': 1701149307.0, 'id': '18204005269274862', 'score': 0.8999999761581421, 'text': 'The simplicity of this game makes it incredibly user-friendly!'}, {'date': 1701111022.0, 'id': '17979059417410373', 'score': -0.800000011920929, 'text': 'Why does a game so bad even have ads!'}, {'date': 1701111008.0, 'id': '18041482327587146', 'score': -0.8999999761581421, 'text': \"I don't like it 😮\\u200d💨\"}, {'date': 1701110993.0, 'id': '18011200793049882', 'score': -0.4000000059604645, 'text': \"The Idea is nice but the game itself is very boring. It could have some more complexities but it's too simple.\"}, {'date': 1701110947.0, 'id': '17981924114364491', 'score': 0.8999999761581421, 'text': 'Hahahaha, this is sooo funny!'}, {'date': 1664958976.0, 'id': '17958883544013119', 'score': 0.20000000298023224, 'text': '😂'}]}\n",
      "{'average_magnitude': -0.31904762522095725, 'id': '17967218341895309', 'sentiment_scores': [{'date': 1701149588.0, 'id': '17937844910768238', 'score': 0.0, 'text': 'Insufficient depth – not enough to keep me engaged for long.'}, {'date': 1701149580.0, 'id': '18042676663567920', 'score': 0.0, 'text': 'Hoping for more innovation in gameplay mechanics.'}, {'date': 1701149569.0, 'id': '18284437303155287', 'score': 0.0, 'text': 'Modernizing the graphics could enhance the overall experience.'}, {'date': 1701149558.0, 'id': '17944404803734967', 'score': -0.800000011920929, 'text': 'Lack of variety makes the game less appealing over time.'}, {'date': 1701149537.0, 'id': '18001004741260772', 'score': -0.800000011920929, 'text': 'Lack of variety makes the game less appealing over time.'}, {'date': 1701149530.0, 'id': '18021425221892192', 'score': -0.8999999761581421, 'text': 'Repetitive gameplay made the overall experience less enjoyable.'}, {'date': 1701149524.0, 'id': '18297726856131846', 'score': -0.800000011920929, 'text': 'Sound effects became annoying after a short while of playing.'}, {'date': 1701149517.0, 'id': '17867777952023081', 'score': -0.4000000059604645, 'text': 'The simplicity makes it seem more like a demo than a complete game.'}, {'date': 1701149504.0, 'id': '18001295654245995', 'score': -0.10000000149011612, 'text': \"Striking me as something I've encountered too often before.\"}, {'date': 1701149499.0, 'id': '17877671717993654', 'score': -0.30000001192092896, 'text': 'Additional features could have added more interest to the gameplay.'}, {'date': 1701149494.0, 'id': '18242664970212886', 'score': -0.4000000059604645, 'text': 'A clear objective or goal is noticeably absent in the game.'}, {'date': 1701149489.0, 'id': '18018442972782209', 'score': -0.6000000238418579, 'text': 'Controls are a tad clunky, hindering a smoother experience.'}, {'date': 1701149483.0, 'id': '17996436164345828', 'score': -0.800000011920929, 'text': 'The concept feels somewhat generic – lacking originality.'}, {'date': 1701149479.0, 'id': '17982306047345859', 'score': 0.0, 'text': 'Anticipated more depth in terms of gameplay variety.'}, {'date': 1701149474.0, 'id': '17962330454542635', 'score': -0.699999988079071, 'text': 'The lack of challenge left me bored rather quickly.'}, {'date': 1701149469.0, 'id': '17959025450564782', 'score': -0.6000000238418579, 'text': 'Graphics could use a facelift – feels a bit outdated.'}, {'date': 1701149464.0, 'id': '18000321911082444', 'score': -0.800000011920929, 'text': 'Personally, I find this game a bit too basic for my taste.'}, {'date': 1701111074.0, 'id': '18208287031276432', 'score': -0.699999988079071, 'text': 'My head is spinning after playing this game for 5 minutes.'}, {'date': 1701111050.0, 'id': '18076304539421834', 'score': 0.8999999761581421, 'text': 'The background music of this game is so cool 😍'}, {'date': 1701111037.0, 'id': '17932090766785632', 'score': 0.8999999761581421, 'text': 'This game is soooo trippy I love it!'}, {'date': 1664958968.0, 'id': '17945435816152014', 'score': 0.20000000298023224, 'text': '🔥🔥'}]}\n",
      "{'average_magnitude': -0.31904762522095725, 'id': '17967218341895309', 'sentiment_scores': [{'date': 1701149588.0, 'id': '17937844910768238', 'score': 0.0, 'text': 'Insufficient depth – not enough to keep me engaged for long.'}, {'date': 1701149580.0, 'id': '18042676663567920', 'score': 0.0, 'text': 'Hoping for more innovation in gameplay mechanics.'}, {'date': 1701149569.0, 'id': '18284437303155287', 'score': 0.0, 'text': 'Modernizing the graphics could enhance the overall experience.'}, {'date': 1701149558.0, 'id': '17944404803734967', 'score': -0.800000011920929, 'text': 'Lack of variety makes the game less appealing over time.'}, {'date': 1701149537.0, 'id': '18001004741260772', 'score': -0.800000011920929, 'text': 'Lack of variety makes the game less appealing over time.'}, {'date': 1701149530.0, 'id': '18021425221892192', 'score': -0.8999999761581421, 'text': 'Repetitive gameplay made the overall experience less enjoyable.'}, {'date': 1701149524.0, 'id': '18297726856131846', 'score': -0.800000011920929, 'text': 'Sound effects became annoying after a short while of playing.'}, {'date': 1701149517.0, 'id': '17867777952023081', 'score': -0.4000000059604645, 'text': 'The simplicity makes it seem more like a demo than a complete game.'}, {'date': 1701149504.0, 'id': '18001295654245995', 'score': -0.10000000149011612, 'text': \"Striking me as something I've encountered too often before.\"}, {'date': 1701149499.0, 'id': '17877671717993654', 'score': -0.30000001192092896, 'text': 'Additional features could have added more interest to the gameplay.'}, {'date': 1701149494.0, 'id': '18242664970212886', 'score': -0.4000000059604645, 'text': 'A clear objective or goal is noticeably absent in the game.'}, {'date': 1701149489.0, 'id': '18018442972782209', 'score': -0.6000000238418579, 'text': 'Controls are a tad clunky, hindering a smoother experience.'}, {'date': 1701149483.0, 'id': '17996436164345828', 'score': -0.800000011920929, 'text': 'The concept feels somewhat generic – lacking originality.'}, {'date': 1701149479.0, 'id': '17982306047345859', 'score': 0.0, 'text': 'Anticipated more depth in terms of gameplay variety.'}, {'date': 1701149474.0, 'id': '17962330454542635', 'score': -0.699999988079071, 'text': 'The lack of challenge left me bored rather quickly.'}, {'date': 1701149469.0, 'id': '17959025450564782', 'score': -0.6000000238418579, 'text': 'Graphics could use a facelift – feels a bit outdated.'}, {'date': 1701149464.0, 'id': '18000321911082444', 'score': -0.800000011920929, 'text': 'Personally, I find this game a bit too basic for my taste.'}, {'date': 1701111074.0, 'id': '18208287031276432', 'score': -0.699999988079071, 'text': 'My head is spinning after playing this game for 5 minutes.'}, {'date': 1701111050.0, 'id': '18076304539421834', 'score': 0.8999999761581421, 'text': 'The background music of this game is so cool 😍'}, {'date': 1701111037.0, 'id': '17932090766785632', 'score': 0.8999999761581421, 'text': 'This game is soooo trippy I love it!'}, {'date': 1664958968.0, 'id': '17945435816152014', 'score': 0.20000000298023224, 'text': '🔥🔥'}]}\n"
     ]
    }
   ],
   "source": [
    "# run tests for all media ids and save the results in a dictionary\n",
    "results = {}\n",
    "for media_id in media_ids:\n",
    "    data, time = test_retrieve_all(media_id)\n",
    "    results[media_id] = {\"retrieve_all\": {\"data\": data, \"time\": time}}\n"
   ],
   "metadata": {
    "collapsed": false,
    "ExecuteTime": {
     "start_time": "2023-11-28T10:03:39.166399Z",
     "end_time": "2023-11-28T10:03:54.075396Z"
    }
   }
  },
  {
   "cell_type": "code",
   "execution_count": 8,
   "outputs": [],
   "source": [
    "import matplotlib.pyplot as plt\n",
    "import numpy as np"
   ],
   "metadata": {
    "collapsed": false,
    "ExecuteTime": {
     "start_time": "2023-11-28T10:03:54.078386Z",
     "end_time": "2023-11-28T10:03:54.562122Z"
    }
   }
  },
  {
   "cell_type": "code",
   "execution_count": 9,
   "outputs": [
    {
     "data": {
      "text/plain": "<BarContainer object of 4 artists>"
     },
     "execution_count": 9,
     "metadata": {},
     "output_type": "execute_result"
    },
    {
     "data": {
      "text/plain": "<Figure size 640x480 with 1 Axes>",
      "image/png": "[encoded data removed]"
     },
     "metadata": {},
     "output_type": "display_data"
    }
   ],
   "source": [
    "# plot the response times for all media ids\n",
    "plt.bar(range(len(results)), [results[key][\"retrieve_all\"][\"time\"] for key in results.keys()], align='center')"
   ],
   "metadata": {
    "collapsed": false,
    "ExecuteTime": {
     "start_time": "2023-11-28T10:03:54.565130Z",
     "end_time": "2023-11-28T10:03:54.720726Z"
    }
   }
  }
 ],
 "metadata": {
  "kernelspec": {
   "display_name": "Python 3",
   "language": "python",
   "name": "python3"
  },
  "language_info": {
   "codemirror_mode": {
    "name": "ipython",
    "version": 2
   },
   "file_extension": ".py",
   "mimetype": "text/x-python",
   "name": "python",
   "nbconvert_exporter": "python",
   "pygments_lexer": "ipython2",
   "version": "2.7.6"
  }
 },
 "nbformat": 4,
 "nbformat_minor": 0
}
