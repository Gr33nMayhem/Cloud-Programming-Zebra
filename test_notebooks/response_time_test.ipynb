{
 "cells": [
  {
   "cell_type": "code",
   "execution_count": 1,
   "outputs": [],
   "source": [
    "# curl -X 'GET' \\\n",
    "#   'http://18.119.195.247:8080/GR33NMAYHEM_1/Project-Zebra/0.1/retrieve_all_for_media?access_token=EAAJZBJx8sWJMBOwmPaWxAD4A2eO9uZAfZBwSZAWgDxvWRfZBSXLfGCZCQk9bkuMatfwJfDWUWJqii2EN03XstTWgbljalEAZB3ZCOXIoU07YG4kRXJir5FzeBLVd35Vdw0dzJgM01dDedKXRiaZBS6P5gy5ILvTi1AW1j1PYSxwTavG1HPeG0NTyg4JmMy3ZBU1uwwGT3AmMgPOGFXGuXC2AZDZD&media_id=17967218341895309' \\\n",
    "#   -H 'accept: application/json'\n",
    "\n",
    "# call this link to get all the comments for a media"
   ],
   "metadata": {
    "collapsed": false,
    "ExecuteTime": {
     "start_time": "2023-11-28T01:20:21.159961Z",
     "end_time": "2023-11-28T01:20:21.177997Z"
    }
   }
  },
  {
   "cell_type": "code",
   "execution_count": 2,
   "outputs": [
    {
     "name": "stdout",
     "output_type": "stream",
     "text": [
      "An error occurred: No connection adapters were found for \"'http://18.119.195.247:8080/GR33NMAYHEM_1/Project-Zebra/0.1/retrieve_all_for_media?access_token=EAAJZBJx8sWJMBOwmPaWxAD4A2eO9uZAfZBwSZAWgDxvWRfZBSXLfGCZCQk9bkuMatfwJfDWUWJqii2EN03XstTWgbljalEAZB3ZCOXIoU07YG4kRXJir5FzeBLVd35Vdw0dzJgM01dDedKXRiaZBS6P5gy5ILvTi1AW1j1PYSxwTavG1HPeG0NTyg4JmMy3ZBU1uwwGT3AmMgPOGFXGuXC2AZDZD&media_id=17967218341895309'\"\n"
     ]
    }
   ],
   "source": [
    "import requests\n",
    "\n",
    "def get_json_response(url):\n",
    "    try:\n",
    "        # Make a GET request\n",
    "        response = requests.get(url)\n",
    "\n",
    "        # Check if the request was successful (status code 200)\n",
    "        if response.status_code == 200:\n",
    "            # Parse the response as JSON and return it\n",
    "            json_response = response.json()\n",
    "            return json_response\n",
    "        else:\n",
    "            # If the request was not successful, print an error message\n",
    "            print(f\"Error: {response.status_code}\")\n",
    "    except Exception as e:\n",
    "        print(f\"An error occurred: {e}\")\n",
    "\n",
    "\n",
    "# Example usage\n",
    "url = \"'http://18.119.195.247:8080/GR33NMAYHEM_1/Project-Zebra/0.1/retrieve_all_for_media?access_token=EAAJZBJx8sWJMBOwmPaWxAD4A2eO9uZAfZBwSZAWgDxvWRfZBSXLfGCZCQk9bkuMatfwJfDWUWJqii2EN03XstTWgbljalEAZB3ZCOXIoU07YG4kRXJir5FzeBLVd35Vdw0dzJgM01dDedKXRiaZBS6P5gy5ILvTi1AW1j1PYSxwTavG1HPeG0NTyg4JmMy3ZBU1uwwGT3AmMgPOGFXGuXC2AZDZD&media_id=17967218341895309'\"  # Replace with your API endpoint\n",
    "json_response = get_json_response(url)\n",
    "\n",
    "# Print the JSON response\n",
    "if json_response:\n",
    "    print(json_response)"
   ],
   "metadata": {
    "collapsed": false,
    "ExecuteTime": {
     "start_time": "2023-11-28T01:20:21.175989Z",
     "end_time": "2023-11-28T01:20:21.283866Z"
    }
   }
  }
 ],
 "metadata": {
  "kernelspec": {
   "display_name": "Python 3",
   "language": "python",
   "name": "python3"
  },
  "language_info": {
   "codemirror_mode": {
    "name": "ipython",
    "version": 2
   },
   "file_extension": ".py",
   "mimetype": "text/x-python",
   "name": "python",
   "nbconvert_exporter": "python",
   "pygments_lexer": "ipython2",
   "version": "2.7.6"
  }
 },
 "nbformat": 4,
 "nbformat_minor": 0
}
